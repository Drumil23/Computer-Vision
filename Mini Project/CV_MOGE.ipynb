{
  "nbformat": 4,
  "nbformat_minor": 0,
  "metadata": {
    "colab": {
      "provenance": [],
      "gpuType": "T4"
    },
    "kernelspec": {
      "name": "python3",
      "display_name": "Python 3"
    },
    "language_info": {
      "name": "python"
    },
    "accelerator": "GPU"
  },
  "cells": [
    {
      "cell_type": "code",
      "source": [
        "!nvidia-smi"
      ],
      "metadata": {
        "colab": {
          "base_uri": "https://localhost:8080/"
        },
        "id": "C9vooyqz1U5G",
        "outputId": "0d6289d8-8965-4b2a-ae24-d0c77154967f"
      },
      "execution_count": null,
      "outputs": [
        {
          "output_type": "stream",
          "name": "stdout",
          "text": [
            "Thu Mar  6 04:05:03 2025       \n",
            "+-----------------------------------------------------------------------------------------+\n",
            "| NVIDIA-SMI 550.54.15              Driver Version: 550.54.15      CUDA Version: 12.4     |\n",
            "|-----------------------------------------+------------------------+----------------------+\n",
            "| GPU  Name                 Persistence-M | Bus-Id          Disp.A | Volatile Uncorr. ECC |\n",
            "| Fan  Temp   Perf          Pwr:Usage/Cap |           Memory-Usage | GPU-Util  Compute M. |\n",
            "|                                         |                        |               MIG M. |\n",
            "|=========================================+========================+======================|\n",
            "|   0  Tesla T4                       Off |   00000000:00:04.0 Off |                    0 |\n",
            "| N/A   49C    P8              9W /   70W |       0MiB /  15360MiB |      0%      Default |\n",
            "|                                         |                        |                  N/A |\n",
            "+-----------------------------------------+------------------------+----------------------+\n",
            "                                                                                         \n",
            "+-----------------------------------------------------------------------------------------+\n",
            "| Processes:                                                                              |\n",
            "|  GPU   GI   CI        PID   Type   Process name                              GPU Memory |\n",
            "|        ID   ID                                                               Usage      |\n",
            "|=========================================================================================|\n",
            "|  No running processes found                                                             |\n",
            "+-----------------------------------------------------------------------------------------+\n"
          ]
        }
      ]
    },
    {
      "cell_type": "code",
      "execution_count": null,
      "metadata": {
        "colab": {
          "base_uri": "https://localhost:8080/"
        },
        "id": "wHx4Z_6M0vsi",
        "outputId": "e38b5b81-6959-492f-861b-a0eab3e7bedd"
      },
      "outputs": [
        {
          "output_type": "stream",
          "name": "stdout",
          "text": [
            "Cloning into 'MoGe'...\n",
            "remote: Enumerating objects: 218, done.\u001b[K\n",
            "remote: Counting objects: 100% (46/46), done.\u001b[K\n",
            "remote: Compressing objects: 100% (25/25), done.\u001b[K\n",
            "remote: Total 218 (delta 34), reused 21 (delta 21), pack-reused 172 (from 1)\u001b[K\n",
            "Receiving objects: 100% (218/218), 4.13 MiB | 8.82 MiB/s, done.\n",
            "Resolving deltas: 100% (80/80), done.\n"
          ]
        }
      ],
      "source": [
        "!git clone https://github.com/microsoft/MoGe.git"
      ]
    },
    {
      "cell_type": "code",
      "source": [
        "%cd MoGe"
      ],
      "metadata": {
        "colab": {
          "base_uri": "https://localhost:8080/"
        },
        "id": "Tkn_3h-c0x7d",
        "outputId": "dd303a1a-ecc6-460c-a792-c575a7f81912"
      },
      "execution_count": null,
      "outputs": [
        {
          "output_type": "stream",
          "name": "stdout",
          "text": [
            "/content/MoGe/MoGe\n"
          ]
        }
      ]
    },
    {
      "cell_type": "code",
      "source": [
        "!pip install -r requirements.txt"
      ],
      "metadata": {
        "colab": {
          "base_uri": "https://localhost:8080/"
        },
        "id": "thdf3ZtY02sc",
        "outputId": "1ca7ee60-a987-4ce9-f952-fdd1b0e04d49"
      },
      "execution_count": null,
      "outputs": [
        {
          "output_type": "stream",
          "name": "stdout",
          "text": [
            "Requirement already satisfied: click in /usr/local/lib/python3.11/dist-packages (from -r requirements.txt (line 3)) (8.1.8)\n",
            "Requirement already satisfied: opencv-python in /usr/local/lib/python3.11/dist-packages (from -r requirements.txt (line 4)) (4.11.0.86)\n",
            "Requirement already satisfied: scipy in /usr/local/lib/python3.11/dist-packages (from -r requirements.txt (line 5)) (1.13.1)\n",
            "Requirement already satisfied: matplotlib in /usr/local/lib/python3.11/dist-packages (from -r requirements.txt (line 6)) (3.10.0)\n",
            "Requirement already satisfied: trimesh in /usr/local/lib/python3.11/dist-packages (from -r requirements.txt (line 7)) (4.6.4)\n",
            "Requirement already satisfied: pillow in /usr/local/lib/python3.11/dist-packages (from -r requirements.txt (line 8)) (11.1.0)\n",
            "Requirement already satisfied: huggingface_hub in /usr/local/lib/python3.11/dist-packages (from -r requirements.txt (line 9)) (0.28.1)\n",
            "Requirement already satisfied: numpy>=1.21.2 in /usr/local/lib/python3.11/dist-packages (from opencv-python->-r requirements.txt (line 4)) (1.26.4)\n",
            "Requirement already satisfied: contourpy>=1.0.1 in /usr/local/lib/python3.11/dist-packages (from matplotlib->-r requirements.txt (line 6)) (1.3.1)\n",
            "Requirement already satisfied: cycler>=0.10 in /usr/local/lib/python3.11/dist-packages (from matplotlib->-r requirements.txt (line 6)) (0.12.1)\n",
            "Requirement already satisfied: fonttools>=4.22.0 in /usr/local/lib/python3.11/dist-packages (from matplotlib->-r requirements.txt (line 6)) (4.56.0)\n",
            "Requirement already satisfied: kiwisolver>=1.3.1 in /usr/local/lib/python3.11/dist-packages (from matplotlib->-r requirements.txt (line 6)) (1.4.8)\n",
            "Requirement already satisfied: packaging>=20.0 in /usr/local/lib/python3.11/dist-packages (from matplotlib->-r requirements.txt (line 6)) (24.2)\n",
            "Requirement already satisfied: pyparsing>=2.3.1 in /usr/local/lib/python3.11/dist-packages (from matplotlib->-r requirements.txt (line 6)) (3.2.1)\n",
            "Requirement already satisfied: python-dateutil>=2.7 in /usr/local/lib/python3.11/dist-packages (from matplotlib->-r requirements.txt (line 6)) (2.8.2)\n",
            "Requirement already satisfied: filelock in /usr/local/lib/python3.11/dist-packages (from huggingface_hub->-r requirements.txt (line 9)) (3.17.0)\n",
            "Requirement already satisfied: fsspec>=2023.5.0 in /usr/local/lib/python3.11/dist-packages (from huggingface_hub->-r requirements.txt (line 9)) (2024.10.0)\n",
            "Requirement already satisfied: pyyaml>=5.1 in /usr/local/lib/python3.11/dist-packages (from huggingface_hub->-r requirements.txt (line 9)) (6.0.2)\n",
            "Requirement already satisfied: requests in /usr/local/lib/python3.11/dist-packages (from huggingface_hub->-r requirements.txt (line 9)) (2.32.3)\n",
            "Requirement already satisfied: tqdm>=4.42.1 in /usr/local/lib/python3.11/dist-packages (from huggingface_hub->-r requirements.txt (line 9)) (4.67.1)\n",
            "Requirement already satisfied: typing-extensions>=3.7.4.3 in /usr/local/lib/python3.11/dist-packages (from huggingface_hub->-r requirements.txt (line 9)) (4.12.2)\n",
            "Requirement already satisfied: six>=1.5 in /usr/local/lib/python3.11/dist-packages (from python-dateutil>=2.7->matplotlib->-r requirements.txt (line 6)) (1.17.0)\n",
            "Requirement already satisfied: charset-normalizer<4,>=2 in /usr/local/lib/python3.11/dist-packages (from requests->huggingface_hub->-r requirements.txt (line 9)) (3.4.1)\n",
            "Requirement already satisfied: idna<4,>=2.5 in /usr/local/lib/python3.11/dist-packages (from requests->huggingface_hub->-r requirements.txt (line 9)) (3.10)\n",
            "Requirement already satisfied: urllib3<3,>=1.21.1 in /usr/local/lib/python3.11/dist-packages (from requests->huggingface_hub->-r requirements.txt (line 9)) (2.3.0)\n",
            "Requirement already satisfied: certifi>=2017.4.17 in /usr/local/lib/python3.11/dist-packages (from requests->huggingface_hub->-r requirements.txt (line 9)) (2025.1.31)\n"
          ]
        }
      ]
    },
    {
      "cell_type": "code",
      "source": [
        "import cv2\n",
        "import torch\n",
        "import trimesh\n",
        "import numpy as np\n",
        "from PIL import Image\n",
        "from moge.model import MoGeModel\n",
        "import utils3d\n",
        "\n",
        "# Set up device\n",
        "device = torch.device(\"cuda\")\n",
        "\n",
        "# Load the model from huggingface hub\n",
        "model = MoGeModel.from_pretrained(\"Ruicheng/moge-vitl\").to(device).eval()\n",
        "\n",
        "# Read the input image and convert to tensor\n",
        "input_image = cv2.cvtColor(cv2.imread(\"/content/lioness.png\"), cv2.COLOR_BGR2RGB)\n",
        "height, width = input_image.shape[:2]\n",
        "\n",
        "# Convert image to tensor\n",
        "input_image_tensor = torch.tensor(input_image / 255, dtype=torch.float32, device=device).permute(2, 0, 1)\n",
        "\n",
        "# Infer\n",
        "output = model.infer(input_image_tensor, resolution_level=9, apply_mask=True)\n",
        "\n",
        "# Extract outputs and convert to NumPy\n",
        "points = output['points'].cpu().numpy()\n",
        "depth = output['depth'].cpu().numpy()\n",
        "mask = output['mask'].cpu().numpy()\n",
        "\n",
        "# Compute normals\n",
        "normals, normals_mask = utils3d.numpy.points_to_normals(points, mask=mask)\n",
        "\n",
        "# Generate mesh\n",
        "faces, vertices, vertex_colors, vertex_uvs = utils3d.numpy.image_mesh(\n",
        "    points,\n",
        "    input_image.astype(np.float32) / 255,  # Using the original NumPy array\n",
        "    utils3d.numpy.image_uv(width=width, height=height),\n",
        "    mask=mask & ~(\n",
        "        utils3d.numpy.depth_edge(depth, rtol=0.03, mask=mask) &\n",
        "        utils3d.numpy.normals_edge(normals, tol=5, mask=normals_mask)\n",
        "    ),\n",
        "    tri=True\n",
        ")\n",
        "\n",
        "# Adjust vertices and UVs\n",
        "vertices, vertex_uvs = vertices * [1, -1, -1], vertex_uvs * [1, -1] + [0, 1]\n",
        "\n",
        "# Create trimesh with texture\n",
        "mesh = trimesh.Trimesh(\n",
        "    vertices=vertices * [-1, 1, -1],  # Adjust for 3D viewer\n",
        "    faces=faces,\n",
        "    visual=trimesh.visual.texture.TextureVisuals(\n",
        "        uv=vertex_uvs,\n",
        "        material=trimesh.visual.material.PBRMaterial(\n",
        "            baseColorTexture=Image.fromarray(input_image),\n",
        "            metallicFactor=0.5,\n",
        "            roughnessFactor=1.0\n",
        "        )\n",
        "    ),\n",
        "    process=False\n",
        ")\n",
        "\n",
        "# # Export the mesh\n",
        "# # mesh.export('output_model.glb')\n",
        "mesh.export('output_model.ply')\n",
        "\n",
        "print(\"3D model exported as output_model.ply\")"
      ],
      "metadata": {
        "colab": {
          "base_uri": "https://localhost:8080/"
        },
        "id": "6k8-lcmY07b8",
        "outputId": "5c9fe8f5-2a97-423d-fb54-e243d6d7e792"
      },
      "execution_count": null,
      "outputs": [
        {
          "output_type": "stream",
          "name": "stdout",
          "text": [
            "3D model exported as output_model.ply\n"
          ]
        }
      ]
    }
  ]
}